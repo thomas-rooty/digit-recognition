{
 "cells": [
  {
   "cell_type": "code",
   "execution_count": 5,
   "outputs": [],
   "source": [
    "import random\n",
    "import pandas as pd\n",
    "import numpy as np\n",
    "import matplotlib.pyplot as plt\n",
    "\n",
    "# Read CSV\n",
    "df_train = pd.read_csv('dataset/train.csv')\n",
    "\n",
    "# Randomly select a row\n",
    "random_index = np.random.randint(0, len(df_train))\n",
    "random_row = df_train.iloc[random_index, :]"
   ],
   "metadata": {
    "collapsed": false,
    "ExecuteTime": {
     "end_time": "2023-09-18T08:36:36.213641400Z",
     "start_time": "2023-09-18T08:36:34.691521200Z"
    }
   },
   "id": "67a97399c6b206c4"
  },
  {
   "cell_type": "code",
   "execution_count": 6,
   "outputs": [],
   "source": [
    "# Extract the label and pixel\n",
    "label = random_row['label']\n",
    "pixels = random_row.drop('label')\n",
    "\n",
    "# Reshape pixel values to a 28x28 matrix\n",
    "image = pixels.values.reshape(28, 28)"
   ],
   "metadata": {
    "collapsed": false,
    "ExecuteTime": {
     "end_time": "2023-09-18T08:36:36.229508800Z",
     "start_time": "2023-09-18T08:36:36.215641800Z"
    }
   },
   "id": "7273c6d195e2dea9"
  },
  {
   "cell_type": "code",
   "execution_count": 7,
   "outputs": [
    {
     "data": {
      "text/plain": "<Figure size 400x400 with 1 Axes>",
      "image/png": "[encoded data removed]"
     },
     "metadata": {},
     "output_type": "display_data"
    }
   ],
   "source": [
    "# Display the image with its label\n",
    "plt.figure(figsize=(4, 4))\n",
    "plt.imshow(image, cmap='gray')\n",
    "plt.title('Label: %s' % label)\n",
    "plt.axis('off')\n",
    "plt.show()"
   ],
   "metadata": {
    "collapsed": false,
    "ExecuteTime": {
     "end_time": "2023-09-18T08:36:36.308529700Z",
     "start_time": "2023-09-18T08:36:36.230621900Z"
    }
   },
   "id": "3efcd0a3b0e33c5d"
  }
 ],
 "metadata": {
  "kernelspec": {
   "display_name": "Python 3",
   "language": "python",
   "name": "python3"
  },
  "language_info": {
   "codemirror_mode": {
    "name": "ipython",
    "version": 2
   },
   "file_extension": ".py",
   "mimetype": "text/x-python",
   "name": "python",
   "nbconvert_exporter": "python",
   "pygments_lexer": "ipython2",
   "version": "2.7.6"
  }
 },
 "nbformat": 4,
 "nbformat_minor": 5
}
