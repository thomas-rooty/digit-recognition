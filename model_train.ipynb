{
 "metadata": {
  "kernelspec": {
   "language": "python",
   "display_name": "Python 3",
   "name": "python3"
  },
  "language_info": {
   "pygments_lexer": "ipython3",
   "nbconvert_exporter": "python",
   "version": "3.6.4",
   "file_extension": ".py",
   "codemirror_mode": {
    "name": "ipython",
    "version": 3
   },
   "name": "python",
   "mimetype": "text/x-python"
  }
 },
 "nbformat_minor": 4,
 "nbformat": 4,
 "cells": [
  {
   "cell_type": "code",
   "source": [
    "import pandas as pd\n",
    "import numpy as np\n",
    "import matplotlib.pyplot as plt\n",
    "\n",
    "# models\n",
    "from sklearn.model_selection import train_test_split, GridSearchCV\n",
    "from tensorflow import keras\n",
    "from keras import layers, Sequential\n",
    "from keras.callbacks import EarlyStopping\n",
    "from keras.wrappers.scikit_learn import KerasClassifier\n",
    "\n",
    "# ignore warnings\n",
    "import warnings\n",
    "warnings.filterwarnings('ignore')"
   ],
   "metadata": {
    "_uuid": "8f2839f25d086af736a60e9eeb907d3b93b6e0e5",
    "_cell_guid": "b1076dfc-b9ad-4769-8c92-a6c4dae69d19",
    "trusted": true,
    "ExecuteTime": {
     "end_time": "2023-09-18T11:15:29.401820400Z",
     "start_time": "2023-09-18T11:14:39.171195Z"
    }
   },
   "execution_count": 1,
   "outputs": []
  },
  {
   "cell_type": "markdown",
   "source": [
    "# Exploring Data"
   ],
   "metadata": {}
  },
  {
   "cell_type": "code",
   "source": [
    "# reading data\n",
    "trainData = pd.read_csv(\"dataset/train.csv\")\n",
    "testData = pd.read_csv(\"dataset/test.csv\")"
   ],
   "metadata": {
    "trusted": true,
    "ExecuteTime": {
     "end_time": "2023-09-18T11:15:31.439420300Z",
     "start_time": "2023-09-18T11:15:29.402819Z"
    }
   },
   "execution_count": 2,
   "outputs": []
  },
  {
   "cell_type": "code",
   "source": [
    "# separating images and labels\n",
    "images, labels = trainData.iloc[:, 1:], trainData['label']"
   ],
   "metadata": {
    "trusted": true,
    "ExecuteTime": {
     "end_time": "2023-09-18T11:15:31.454389500Z",
     "start_time": "2023-09-18T11:15:31.439420300Z"
    }
   },
   "execution_count": 3,
   "outputs": []
  },
  {
   "cell_type": "code",
   "source": [
    "# displaying images\n",
    "def displayImg(images, title):\n",
    "    plt.figure(figsize=(15, 10))\n",
    "    \n",
    "    for i in range(len(images)):\n",
    "        plt.subplot(4, 4, i+1)\n",
    "        plt.title(title[i])\n",
    "        plt.imshow(np.reshape(images[i], (28, 28)), cmap='gray')\n",
    "        plt.axis('off')\n",
    "    plt.show()\n",
    "    \n",
    "rand = np.random.randint(0, images.shape[0]-16)\n",
    "displayImg(images.iloc[rand:rand+16].values, labels.iloc[rand:rand+16].values)"
   ],
   "metadata": {
    "trusted": true,
    "ExecuteTime": {
     "end_time": "2023-09-18T11:15:32.445542700Z",
     "start_time": "2023-09-18T11:15:31.455402600Z"
    }
   },
   "execution_count": 4,
   "outputs": [
    {
     "data": {
      "text/plain": "<Figure size 1500x1000 with 16 Axes>",
      "image/png": "[encoded data removed]"
     },
     "metadata": {},
     "output_type": "display_data"
    }
   ]
  },
  {
   "cell_type": "markdown",
   "source": [
    "# Preprocessing Data"
   ],
   "metadata": {}
  },
  {
   "cell_type": "code",
   "source": [
    "trainX, testX, trainY, testY = train_test_split(images, labels, test_size=0.20, random_state=0)"
   ],
   "metadata": {
    "trusted": true,
    "ExecuteTime": {
     "end_time": "2023-09-18T11:15:32.629080700Z",
     "start_time": "2023-09-18T11:15:32.445542700Z"
    }
   },
   "execution_count": 5,
   "outputs": []
  },
  {
   "cell_type": "code",
   "source": [
    "# reshaping data and scaling it from 0 to 1    \n",
    "trainX = trainX.to_numpy().reshape(-1, 28, 28, 1) / 255\n",
    "testX = testX.to_numpy().reshape(-1, 28, 28, 1) / 255"
   ],
   "metadata": {
    "trusted": true,
    "ExecuteTime": {
     "end_time": "2023-09-18T11:15:32.721318Z",
     "start_time": "2023-09-18T11:15:32.631080200Z"
    }
   },
   "execution_count": 6,
   "outputs": []
  },
  {
   "cell_type": "markdown",
   "source": [
    "# Training Model"
   ],
   "metadata": {}
  },
  {
   "cell_type": "code",
   "source": [
    "def createModel(learningRate, optimizer, activation, dropoutRate):\n",
    "    model = Sequential([\n",
    "        layers.Conv2D(32, (5, 5), activation=activation, input_shape=(28, 28, 1)),\n",
    "        layers.MaxPool2D((2, 2)),\n",
    "\n",
    "        layers.Conv2D(64, (5, 5), activation=activation),\n",
    "        layers.MaxPool2D((2, 2)),\n",
    "\n",
    "        layers.Flatten(),\n",
    "        layers.Dropout(dropoutRate),\n",
    "\n",
    "        layers.Dense(64, activation=activation),\n",
    "        layers.BatchNormalization(),\n",
    "\n",
    "        layers.Dense(32, activation=activation),\n",
    "        layers.BatchNormalization(),\n",
    "        \n",
    "        layers.Dropout(dropoutRate),\n",
    "\n",
    "        layers.Dense(10, activation='softmax')\n",
    "    ])\n",
    "\n",
    "    if optimizer == 'adam':\n",
    "        opt = keras.optimizers.Adam(learning_rate=learningRate)\n",
    "    elif optimizer == 'sgd':\n",
    "        opt = keras.optimizers.SGD(learning_rate=learningRate)\n",
    "        \n",
    "    model.compile(optimizer=opt, loss='sparse_categorical_crossentropy', metrics=['accuracy'])\n",
    "\n",
    "    return model"
   ],
   "metadata": {
    "trusted": true,
    "ExecuteTime": {
     "end_time": "2023-09-18T11:15:32.737137300Z",
     "start_time": "2023-09-18T11:15:32.721318Z"
    }
   },
   "execution_count": 7,
   "outputs": []
  },
  {
   "cell_type": "code",
   "source": [
    "# adding callback to avoid overfitting\n",
    "earlyStopping = EarlyStopping(\n",
    "    min_delta=0.005,\n",
    "    patience=10,\n",
    "    restore_best_weights=True\n",
    ")"
   ],
   "metadata": {
    "trusted": true,
    "ExecuteTime": {
     "end_time": "2023-09-18T11:15:32.757348100Z",
     "start_time": "2023-09-18T11:15:32.738137600Z"
    }
   },
   "execution_count": 8,
   "outputs": []
  },
  {
   "cell_type": "markdown",
   "source": [
    "## Hyperparameter Tuning"
   ],
   "metadata": {}
  },
  {
   "cell_type": "markdown",
   "source": [
    "**Note** : *This part of code is commented because it takes a lot of time to run.*"
   ],
   "metadata": {}
  },
  {
   "cell_type": "code",
   "source": [
    "paramGrid = {\n",
    "    'batch_size' : [16, 32],\n",
    "    'learningRate' : [0.001, 0.01, 0.1],\n",
    "    'optimizer' : ['adam', 'sgd'],\n",
    "    'dropoutRate' : [0.1, 0.2],\n",
    "    'activation' : ['relu', 'tanh']\n",
    "}"
   ],
   "metadata": {
    "trusted": true,
    "ExecuteTime": {
     "end_time": "2023-09-18T11:15:32.767854600Z",
     "start_time": "2023-09-18T11:15:32.754150900Z"
    }
   },
   "execution_count": 9,
   "outputs": []
  },
  {
   "cell_type": "code",
   "execution_count": null,
   "outputs": [],
   "source": [
    "# model = KerasClassifier(build_fn=createModel, verbose=0)\n",
    "\n",
    "# gridSearch = GridSearchCV(model, paramGrid, cv=3, verbose=0).fit(trainX, trainY)\n",
    "\n",
    "# finding the best parameters\n",
    "# bestParams = gridSearch.best_params_\n",
    "# print(\"Best Paramters :\", bestParams)\n",
    "# {'activation': 'relu', 'batch_size': 16, 'dropoutRate': 0.2, 'learningRate': 0.001, 'optimizer': 'adam'}"
   ],
   "metadata": {
    "collapsed": false
   }
  },
  {
   "cell_type": "code",
   "source": [
    "# fitting best parameters into model\n",
    "bestModel = createModel(\n",
    "    learningRate = 0.001,\n",
    "    optimizer = 'adam',\n",
    "    activation = 'relu',\n",
    "    dropoutRate = 0.2\n",
    ")\n",
    "\n",
    "history = bestModel.fit(\n",
    "    trainX, trainY,\n",
    "    validation_data = (testX, testY),\n",
    "    batch_size = 16,\n",
    "    epochs = 20,\n",
    "    callbacks = [earlyStopping]\n",
    ")"
   ],
   "metadata": {
    "trusted": true,
    "ExecuteTime": {
     "end_time": "2023-09-18T11:19:02.480146900Z",
     "start_time": "2023-09-18T11:15:32.768854400Z"
    }
   },
   "execution_count": 10,
   "outputs": [
    {
     "name": "stdout",
     "output_type": "stream",
     "text": [
      "Epoch 1/20\n",
      "2100/2100 [==============================] - 16s 7ms/step - loss: 0.2631 - accuracy: 0.9241 - val_loss: 0.0667 - val_accuracy: 0.9805\n",
      "Epoch 2/20\n",
      "2100/2100 [==============================] - 15s 7ms/step - loss: 0.0988 - accuracy: 0.9713 - val_loss: 0.0538 - val_accuracy: 0.9823\n",
      "Epoch 3/20\n",
      "2100/2100 [==============================] - 15s 7ms/step - loss: 0.0707 - accuracy: 0.9784 - val_loss: 0.0402 - val_accuracy: 0.9877\n",
      "Epoch 4/20\n",
      "2100/2100 [==============================] - 15s 7ms/step - loss: 0.0637 - accuracy: 0.9808 - val_loss: 0.0334 - val_accuracy: 0.9899\n",
      "Epoch 5/20\n",
      "2100/2100 [==============================] - 15s 7ms/step - loss: 0.0511 - accuracy: 0.9842 - val_loss: 0.0311 - val_accuracy: 0.9898\n",
      "Epoch 6/20\n",
      "2100/2100 [==============================] - 14s 7ms/step - loss: 0.0439 - accuracy: 0.9872 - val_loss: 0.0341 - val_accuracy: 0.9894\n",
      "Epoch 7/20\n",
      "2100/2100 [==============================] - 15s 7ms/step - loss: 0.0401 - accuracy: 0.9882 - val_loss: 0.0380 - val_accuracy: 0.9893\n",
      "Epoch 8/20\n",
      "2100/2100 [==============================] - 15s 7ms/step - loss: 0.0360 - accuracy: 0.9899 - val_loss: 0.0319 - val_accuracy: 0.9901\n",
      "Epoch 9/20\n",
      "2100/2100 [==============================] - 14s 7ms/step - loss: 0.0308 - accuracy: 0.9914 - val_loss: 0.0394 - val_accuracy: 0.9905\n",
      "Epoch 10/20\n",
      "2100/2100 [==============================] - 15s 7ms/step - loss: 0.0291 - accuracy: 0.9912 - val_loss: 0.0287 - val_accuracy: 0.9921\n",
      "Epoch 11/20\n",
      "2100/2100 [==============================] - 15s 7ms/step - loss: 0.0260 - accuracy: 0.9924 - val_loss: 0.0370 - val_accuracy: 0.9896\n",
      "Epoch 12/20\n",
      "2100/2100 [==============================] - 15s 7ms/step - loss: 0.0233 - accuracy: 0.9923 - val_loss: 0.0367 - val_accuracy: 0.9906\n",
      "Epoch 13/20\n",
      "2100/2100 [==============================] - 15s 7ms/step - loss: 0.0244 - accuracy: 0.9925 - val_loss: 0.0365 - val_accuracy: 0.9914\n",
      "Epoch 14/20\n",
      "2100/2100 [==============================] - 15s 7ms/step - loss: 0.0214 - accuracy: 0.9932 - val_loss: 0.0292 - val_accuracy: 0.9923\n"
     ]
    }
   ]
  },
  {
   "cell_type": "code",
   "source": [
    "historyDf = pd.DataFrame(history.history)"
   ],
   "metadata": {
    "trusted": true,
    "ExecuteTime": {
     "end_time": "2023-09-18T11:19:02.510136400Z",
     "start_time": "2023-09-18T11:19:02.483148Z"
    }
   },
   "execution_count": 11,
   "outputs": []
  },
  {
   "cell_type": "code",
   "source": [
    "historyDf.loc[:, ['loss', 'val_loss']].plot()"
   ],
   "metadata": {
    "trusted": true,
    "ExecuteTime": {
     "end_time": "2023-09-18T11:19:02.634558900Z",
     "start_time": "2023-09-18T11:19:02.495983800Z"
    }
   },
   "execution_count": 12,
   "outputs": [
    {
     "data": {
      "text/plain": "<Axes: >"
     },
     "execution_count": 12,
     "metadata": {},
     "output_type": "execute_result"
    },
    {
     "data": {
      "text/plain": "<Figure size 640x480 with 1 Axes>",
      "image/png": "[encoded data removed]"
     },
     "metadata": {},
     "output_type": "display_data"
    }
   ]
  },
  {
   "cell_type": "code",
   "source": [
    "historyDf.loc[:, ['accuracy', 'val_accuracy']].plot()"
   ],
   "metadata": {
    "trusted": true,
    "ExecuteTime": {
     "end_time": "2023-09-18T11:19:02.767030900Z",
     "start_time": "2023-09-18T11:19:02.636559200Z"
    }
   },
   "execution_count": 13,
   "outputs": [
    {
     "data": {
      "text/plain": "<Axes: >"
     },
     "execution_count": 13,
     "metadata": {},
     "output_type": "execute_result"
    },
    {
     "data": {
      "text/plain": "<Figure size 640x480 with 1 Axes>",
      "image/png": "[encoded data removed]"
     },
     "metadata": {},
     "output_type": "display_data"
    }
   ]
  },
  {
   "cell_type": "markdown",
   "source": [
    "# Creating Submission"
   ],
   "metadata": {}
  },
  {
   "cell_type": "code",
   "source": [
    "# reshaping test data\n",
    "testData = testData.to_numpy().reshape(-1, 28, 28) / 255"
   ],
   "metadata": {
    "trusted": true,
    "ExecuteTime": {
     "end_time": "2023-09-18T11:19:02.829452100Z",
     "start_time": "2023-09-18T11:19:02.764032Z"
    }
   },
   "execution_count": 14,
   "outputs": []
  },
  {
   "cell_type": "code",
   "source": [
    "# making predictions\n",
    "pred = list(map(np.argmax, bestModel.predict(testData)))"
   ],
   "metadata": {
    "trusted": true,
    "ExecuteTime": {
     "end_time": "2023-09-18T11:19:07.158589300Z",
     "start_time": "2023-09-18T11:19:02.825451900Z"
    }
   },
   "execution_count": 15,
   "outputs": [
    {
     "name": "stdout",
     "output_type": "stream",
     "text": [
      "875/875 [==============================] - 4s 4ms/step\n"
     ]
    }
   ]
  },
  {
   "cell_type": "code",
   "source": [
    "i = np.random.randint(0, 28000)\n",
    "print('Label predicted :', pred[i], '\\n')\n",
    "plt.imshow(testData[i], cmap='gray')\n",
    "plt.axis('off')\n",
    "plt.show()"
   ],
   "metadata": {
    "trusted": true,
    "ExecuteTime": {
     "end_time": "2023-09-18T11:19:25.026651700Z",
     "start_time": "2023-09-18T11:19:24.983891900Z"
    }
   },
   "execution_count": 22,
   "outputs": [
    {
     "name": "stdout",
     "output_type": "stream",
     "text": [
      "Label predicted : 7 \n"
     ]
    },
    {
     "data": {
      "text/plain": "<Figure size 640x480 with 1 Axes>",
      "image/png": "[encoded data removed]"
     },
     "metadata": {},
     "output_type": "display_data"
    }
   ]
  },
  {
   "cell_type": "code",
   "source": [
    "# creating submission csv\n",
    "output = pd.DataFrame({'ImageId' : range(1, 28001), 'Label' : pred})\n",
    "output.to_csv(\"Digit Recognizer.csv\", index=False)"
   ],
   "metadata": {
    "trusted": true,
    "ExecuteTime": {
     "end_time": "2023-09-18T11:19:15.277389Z",
     "start_time": "2023-09-18T11:19:15.090487900Z"
    }
   },
   "execution_count": 19,
   "outputs": []
  },
  {
   "cell_type": "code",
   "execution_count": null,
   "outputs": [],
   "source": [],
   "metadata": {
    "collapsed": false
   }
  }
 ]
}
