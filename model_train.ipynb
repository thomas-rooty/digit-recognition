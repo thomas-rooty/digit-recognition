{
 "cells": [
  {
   "cell_type": "code",
   "execution_count": 1,
   "metadata": {
    "ExecuteTime": {
     "end_time": "2023-09-18T11:15:29.401820400Z",
     "start_time": "2023-09-18T11:14:39.171195Z"
    },
    "_cell_guid": "b1076dfc-b9ad-4769-8c92-a6c4dae69d19",
    "_uuid": "8f2839f25d086af736a60e9eeb907d3b93b6e0e5",
    "trusted": true
   },
   "outputs": [],
   "source": [
    "import pandas as pd\n",
    "import numpy as np\n",
    "import matplotlib.pyplot as plt\n",
    "from pymongo import MongoClient\n",
    "\n",
    "# models\n",
    "from sklearn.model_selection import train_test_split, GridSearchCV\n",
    "from tensorflow import keras\n",
    "from keras import layers, Sequential\n",
    "from keras.callbacks import EarlyStopping\n",
    "from keras.wrappers.scikit_learn import KerasClassifier\n",
    "\n",
    "# ignore warnings\n",
    "import warnings\n",
    "\n",
    "warnings.filterwarnings('ignore')"
   ]
  },
  {
   "cell_type": "markdown",
   "metadata": {},
   "source": [
    "# Exploring Data"
   ]
  },
  {
   "cell_type": "code",
   "execution_count": 2,
   "metadata": {
    "ExecuteTime": {
     "end_time": "2023-09-18T11:15:31.439420300Z",
     "start_time": "2023-09-18T11:15:29.402819Z"
    },
    "trusted": true
   },
   "outputs": [],
   "source": [
    "# reading data\n",
    "#trainData = pd.read_csv(\"dataset/train.csv\")\n",
    "#testData = pd.read_csv(\"dataset/test.csv\")\n",
    "client = MongoClient('localhost', 27017)\n",
    "db = client['digit-recognition']\n",
    "collection = db['train']\n",
    "trainData = pd.DataFrame(list(collection.find()))\n",
    "collection = db['test']\n",
    "testData = pd.DataFrame(list(collection.find()))"
   ]
  },
  {
   "cell_type": "code",
   "execution_count": 3,
   "metadata": {
    "ExecuteTime": {
     "end_time": "2023-09-18T11:15:31.454389500Z",
     "start_time": "2023-09-18T11:15:31.439420300Z"
    },
    "trusted": true
   },
   "outputs": [],
   "source": [
    "# separating images and labels\n",
    "images, labels = trainData.iloc[:, 1:], trainData['label']"
   ]
  },
  {
   "cell_type": "code",
   "execution_count": 4,
   "metadata": {
    "ExecuteTime": {
     "end_time": "2023-09-18T11:15:32.445542700Z",
     "start_time": "2023-09-18T11:15:31.455402600Z"
    },
    "trusted": true
   },
   "outputs": [
    {
     "data": {
      "image/png": "[encoded data removed]",
      "text/plain": [
       "<Figure size 1500x1000 with 16 Axes>"
      ]
     },
     "metadata": {},
     "output_type": "display_data"
    }
   ],
   "source": [
    "# displaying images\n",
    "def displayImg(images, title):\n",
    "  plt.figure(figsize=(15, 10))\n",
    "\n",
    "  for i in range(len(images)):\n",
    "    plt.subplot(4, 4, i + 1)\n",
    "    plt.title(title[i])\n",
    "    plt.imshow(np.reshape(images[i], (28, 28)), cmap='gray')\n",
    "    plt.axis('off')\n",
    "  plt.show()\n",
    "\n",
    "\n",
    "rand = np.random.randint(0, images.shape[0] - 16)\n",
    "displayImg(images.iloc[rand:rand + 16].values, labels.iloc[rand:rand + 16].values)"
   ]
  },
  {
   "cell_type": "markdown",
   "metadata": {},
   "source": [
    "# Preprocessing Data"
   ]
  },
  {
   "cell_type": "code",
   "execution_count": 5,
   "metadata": {
    "ExecuteTime": {
     "end_time": "2023-09-18T11:15:32.629080700Z",
     "start_time": "2023-09-18T11:15:32.445542700Z"
    },
    "trusted": true
   },
   "outputs": [],
   "source": [
    "trainX, testX, trainY, testY = train_test_split(images, labels, test_size=0.20, random_state=0)"
   ]
  },
  {
   "cell_type": "code",
   "execution_count": 6,
   "metadata": {
    "ExecuteTime": {
     "end_time": "2023-09-18T11:15:32.721318Z",
     "start_time": "2023-09-18T11:15:32.631080200Z"
    },
    "trusted": true
   },
   "outputs": [],
   "source": [
    "# reshaping data and scaling it from 0 to 1    \n",
    "trainX = trainX.to_numpy().reshape(-1, 28, 28, 1) / 255\n",
    "testX = testX.to_numpy().reshape(-1, 28, 28, 1) / 255"
   ]
  },
  {
   "cell_type": "markdown",
   "metadata": {},
   "source": [
    "# Training Model"
   ]
  },
  {
   "cell_type": "code",
   "execution_count": 7,
   "metadata": {
    "ExecuteTime": {
     "end_time": "2023-09-18T11:15:32.737137300Z",
     "start_time": "2023-09-18T11:15:32.721318Z"
    },
    "trusted": true
   },
   "outputs": [],
   "source": [
    "def createModel(learningRate, optimizer, activation, dropoutRate):\n",
    "  model = Sequential([\n",
    "    layers.Conv2D(32, (5, 5), activation=activation, input_shape=(28, 28, 1)),\n",
    "    layers.MaxPool2D((2, 2)),\n",
    "\n",
    "    layers.Conv2D(64, (5, 5), activation=activation),\n",
    "    layers.MaxPool2D((2, 2)),\n",
    "\n",
    "    layers.Flatten(),\n",
    "    layers.Dropout(dropoutRate),\n",
    "\n",
    "    layers.Dense(64, activation=activation),\n",
    "    layers.BatchNormalization(),\n",
    "\n",
    "    layers.Dense(32, activation=activation),\n",
    "    layers.BatchNormalization(),\n",
    "\n",
    "    layers.Dropout(dropoutRate),\n",
    "\n",
    "    layers.Dense(10, activation='softmax')\n",
    "  ])\n",
    "\n",
    "  if optimizer == 'adam':\n",
    "    opt = keras.optimizers.Adam(learning_rate=learningRate)\n",
    "  elif optimizer == 'sgd':\n",
    "    opt = keras.optimizers.SGD(learning_rate=learningRate)\n",
    "\n",
    "  model.compile(optimizer=opt, loss='sparse_categorical_crossentropy', metrics=['accuracy'])\n",
    "\n",
    "  return model"
   ]
  },
  {
   "cell_type": "code",
   "execution_count": 8,
   "metadata": {
    "ExecuteTime": {
     "end_time": "2023-09-18T11:15:32.757348100Z",
     "start_time": "2023-09-18T11:15:32.738137600Z"
    },
    "trusted": true
   },
   "outputs": [],
   "source": [
    "# adding callback to avoid overfitting\n",
    "earlyStopping = EarlyStopping(\n",
    "  min_delta=0.005,\n",
    "  patience=10,\n",
    "  restore_best_weights=True\n",
    ")"
   ]
  },
  {
   "cell_type": "markdown",
   "metadata": {},
   "source": [
    "## Hyperparameter Tuning"
   ]
  },
  {
   "cell_type": "markdown",
   "metadata": {},
   "source": [
    "**Note** : *This part of code is commented because it takes a lot of time to run.*"
   ]
  },
  {
   "cell_type": "code",
   "execution_count": 9,
   "metadata": {
    "ExecuteTime": {
     "end_time": "2023-09-18T11:15:32.767854600Z",
     "start_time": "2023-09-18T11:15:32.754150900Z"
    },
    "trusted": true
   },
   "outputs": [],
   "source": [
    "paramGrid = {\n",
    "  'batch_size': [16, 32],\n",
    "  'learningRate': [0.001, 0.01, 0.1],\n",
    "  'optimizer': ['adam', 'sgd'],\n",
    "  'dropoutRate': [0.1, 0.2],\n",
    "  'activation': ['relu', 'tanh']\n",
    "}"
   ]
  },
  {
   "cell_type": "code",
   "execution_count": null,
   "metadata": {
    "collapsed": false
   },
   "outputs": [],
   "source": [
    "#model = KerasClassifier(build_fn=createModel, verbose=0)\n",
    "\n",
    "#gridSearch = GridSearchCV(model, paramGrid, cv=2, verbose=0).fit(trainX, trainY)\n",
    "\n",
    "# finding the best parameters\n",
    "#bestParams = gridSearch.best_params_\n",
    "#print(\"Best Paramters :\", bestParams)\n",
    "\n",
    "# Best params : {'activation': 'relu', 'batch_size': 16, 'dropoutRate': 0.2, 'learningRate': 0.001, 'optimizer': 'adam'}"
   ]
  },
  {
   "cell_type": "code",
   "execution_count": 10,
   "metadata": {
    "ExecuteTime": {
     "end_time": "2023-09-18T11:19:02.480146900Z",
     "start_time": "2023-09-18T11:15:32.768854400Z"
    },
    "trusted": true
   },
   "outputs": [
    {
     "name": "stdout",
     "output_type": "stream",
     "text": [
      "Epoch 1/20\n",
      "2100/2100 [==============================] - 16s 7ms/step - loss: 0.2631 - accuracy: 0.9241 - val_loss: 0.0667 - val_accuracy: 0.9805\n",
      "Epoch 2/20\n",
      "2100/2100 [==============================] - 15s 7ms/step - loss: 0.0988 - accuracy: 0.9713 - val_loss: 0.0538 - val_accuracy: 0.9823\n",
      "Epoch 3/20\n",
      "2100/2100 [==============================] - 15s 7ms/step - loss: 0.0707 - accuracy: 0.9784 - val_loss: 0.0402 - val_accuracy: 0.9877\n",
      "Epoch 4/20\n",
      "2100/2100 [==============================] - 15s 7ms/step - loss: 0.0637 - accuracy: 0.9808 - val_loss: 0.0334 - val_accuracy: 0.9899\n",
      "Epoch 5/20\n",
      "2100/2100 [==============================] - 15s 7ms/step - loss: 0.0511 - accuracy: 0.9842 - val_loss: 0.0311 - val_accuracy: 0.9898\n",
      "Epoch 6/20\n",
      "2100/2100 [==============================] - 14s 7ms/step - loss: 0.0439 - accuracy: 0.9872 - val_loss: 0.0341 - val_accuracy: 0.9894\n",
      "Epoch 7/20\n",
      "2100/2100 [==============================] - 15s 7ms/step - loss: 0.0401 - accuracy: 0.9882 - val_loss: 0.0380 - val_accuracy: 0.9893\n",
      "Epoch 8/20\n",
      "2100/2100 [==============================] - 15s 7ms/step - loss: 0.0360 - accuracy: 0.9899 - val_loss: 0.0319 - val_accuracy: 0.9901\n",
      "Epoch 9/20\n",
      "2100/2100 [==============================] - 14s 7ms/step - loss: 0.0308 - accuracy: 0.9914 - val_loss: 0.0394 - val_accuracy: 0.9905\n",
      "Epoch 10/20\n",
      "2100/2100 [==============================] - 15s 7ms/step - loss: 0.0291 - accuracy: 0.9912 - val_loss: 0.0287 - val_accuracy: 0.9921\n",
      "Epoch 11/20\n",
      "2100/2100 [==============================] - 15s 7ms/step - loss: 0.0260 - accuracy: 0.9924 - val_loss: 0.0370 - val_accuracy: 0.9896\n",
      "Epoch 12/20\n",
      "2100/2100 [==============================] - 15s 7ms/step - loss: 0.0233 - accuracy: 0.9923 - val_loss: 0.0367 - val_accuracy: 0.9906\n",
      "Epoch 13/20\n",
      "2100/2100 [==============================] - 15s 7ms/step - loss: 0.0244 - accuracy: 0.9925 - val_loss: 0.0365 - val_accuracy: 0.9914\n",
      "Epoch 14/20\n",
      "2100/2100 [==============================] - 15s 7ms/step - loss: 0.0214 - accuracy: 0.9932 - val_loss: 0.0292 - val_accuracy: 0.9923\n"
     ]
    }
   ],
   "source": [
    "# fitting best parameters into model\n",
    "bestModel = createModel(\n",
    "  learningRate=0.001,\n",
    "  optimizer='adam',\n",
    "  activation='relu',\n",
    "  dropoutRate=0.2\n",
    ")\n",
    "\n",
    "history = bestModel.fit(\n",
    "  trainX, trainY,\n",
    "  validation_data=(testX, testY),\n",
    "  batch_size=16,\n",
    "  epochs=20,\n",
    "  callbacks=[earlyStopping]\n",
    ")"
   ]
  },
  {
   "cell_type": "code",
   "execution_count": 11,
   "metadata": {
    "ExecuteTime": {
     "end_time": "2023-09-18T11:19:02.510136400Z",
     "start_time": "2023-09-18T11:19:02.483148Z"
    },
    "trusted": true
   },
   "outputs": [],
   "source": [
    "historyDf = pd.DataFrame(history.history)"
   ]
  },
  {
   "cell_type": "code",
   "execution_count": 12,
   "metadata": {
    "ExecuteTime": {
     "end_time": "2023-09-18T11:19:02.634558900Z",
     "start_time": "2023-09-18T11:19:02.495983800Z"
    },
    "trusted": true
   },
   "outputs": [
    {
     "data": {
      "text/plain": [
       "<Axes: >"
      ]
     },
     "execution_count": 12,
     "metadata": {},
     "output_type": "execute_result"
    },
    {
     "data": {
      "image/png": "[encoded data removed]",
      "text/plain": [
       "<Figure size 640x480 with 1 Axes>"
      ]
     },
     "metadata": {},
     "output_type": "display_data"
    }
   ],
   "source": [
    "historyDf.loc[:, ['loss', 'val_loss']].plot()"
   ]
  },
  {
   "cell_type": "code",
   "execution_count": 13,
   "metadata": {
    "ExecuteTime": {
     "end_time": "2023-09-18T11:19:02.767030900Z",
     "start_time": "2023-09-18T11:19:02.636559200Z"
    },
    "trusted": true
   },
   "outputs": [
    {
     "data": {
      "text/plain": [
       "<Axes: >"
      ]
     },
     "execution_count": 13,
     "metadata": {},
     "output_type": "execute_result"
    },
    {
     "data": {
      "image/png": "[encoded data removed]",
      "text/plain": [
       "<Figure size 640x480 with 1 Axes>"
      ]
     },
     "metadata": {},
     "output_type": "display_data"
    }
   ],
   "source": [
    "historyDf.loc[:, ['accuracy', 'val_accuracy']].plot()"
   ]
  },
  {
   "cell_type": "markdown",
   "metadata": {},
   "source": [
    "# Creating Submission"
   ]
  },
  {
   "cell_type": "code",
   "execution_count": 14,
   "metadata": {
    "ExecuteTime": {
     "end_time": "2023-09-18T11:19:02.829452100Z",
     "start_time": "2023-09-18T11:19:02.764032Z"
    },
    "trusted": true
   },
   "outputs": [],
   "source": [
    "# reshaping test data\n",
    "testData = testData.to_numpy().reshape(-1, 28, 28) / 255"
   ]
  },
  {
   "cell_type": "code",
   "execution_count": 15,
   "metadata": {
    "ExecuteTime": {
     "end_time": "2023-09-18T11:19:07.158589300Z",
     "start_time": "2023-09-18T11:19:02.825451900Z"
    },
    "trusted": true
   },
   "outputs": [
    {
     "name": "stdout",
     "output_type": "stream",
     "text": [
      "875/875 [==============================] - 4s 4ms/step\n"
     ]
    }
   ],
   "source": [
    "# making predictions\n",
    "pred = list(map(np.argmax, bestModel.predict(testData)))"
   ]
  },
  {
   "cell_type": "code",
   "execution_count": 22,
   "metadata": {
    "ExecuteTime": {
     "end_time": "2023-09-18T11:19:25.026651700Z",
     "start_time": "2023-09-18T11:19:24.983891900Z"
    },
    "trusted": true
   },
   "outputs": [
    {
     "name": "stdout",
     "output_type": "stream",
     "text": [
      "Label predicted : 7 \n"
     ]
    },
    {
     "data": {
      "image/png": "[encoded data removed]",
      "text/plain": [
       "<Figure size 640x480 with 1 Axes>"
      ]
     },
     "metadata": {},
     "output_type": "display_data"
    }
   ],
   "source": [
    "i = np.random.randint(0, 28000)\n",
    "print('Label predicted :', pred[i], '\\n')\n",
    "plt.imshow(testData[i], cmap='gray')\n",
    "plt.axis('off')\n",
    "plt.show()"
   ]
  },
  {
   "cell_type": "code",
   "execution_count": 23,
   "metadata": {
    "ExecuteTime": {
     "end_time": "2023-09-18T11:25:34.766724Z",
     "start_time": "2023-09-18T11:25:34.594997800Z"
    },
    "trusted": true
   },
   "outputs": [],
   "source": [
    "# creating submission csv\n",
    "output = pd.DataFrame({'ImageId': range(1, 28001), 'Label': pred})\n",
    "output.to_csv(\"Digit Recognizer.csv\", index=False)"
   ]
  },
  {
   "cell_type": "code",
   "execution_count": 24,
   "metadata": {
    "ExecuteTime": {
     "end_time": "2023-09-18T11:25:35.769039600Z",
     "start_time": "2023-09-18T11:25:35.685089700Z"
    },
    "collapsed": false
   },
   "outputs": [
    {
     "name": "stdout",
     "output_type": "stream",
     "text": [
      "Keras weights file (<HDF5 file \"variables.h5\" (mode r+)>) saving:\n",
      "...layers\\batch_normalization\n",
      "......vars\n",
      ".........0\n",
      ".........1\n",
      ".........2\n",
      ".........3\n",
      "...layers\\batch_normalization_1\n",
      "......vars\n",
      ".........0\n",
      ".........1\n",
      ".........2\n",
      ".........3\n",
      "...layers\\conv2d\n",
      "......vars\n",
      ".........0\n",
      ".........1\n",
      "...layers\\conv2d_1\n",
      "......vars\n",
      ".........0\n",
      ".........1\n",
      "...layers\\dense\n",
      "......vars\n",
      ".........0\n",
      ".........1\n",
      "...layers\\dense_1\n",
      "......vars\n",
      ".........0\n",
      ".........1\n",
      "...layers\\dense_2\n",
      "......vars\n",
      ".........0\n",
      ".........1\n",
      "...layers\\dropout\n",
      "......vars\n",
      "...layers\\dropout_1\n",
      "......vars\n",
      "...layers\\flatten\n",
      "......vars\n",
      "...layers\\max_pooling2d\n",
      "......vars\n",
      "...layers\\max_pooling2d_1\n",
      "......vars\n",
      "...metrics\\mean\n",
      "......vars\n",
      ".........0\n",
      ".........1\n",
      "...metrics\\mean_metric_wrapper\n",
      "......vars\n",
      ".........0\n",
      ".........1\n",
      "...optimizer\n",
      "......vars\n",
      ".........0\n",
      ".........1\n",
      ".........10\n",
      ".........11\n",
      ".........12\n",
      ".........13\n",
      ".........14\n",
      ".........15\n",
      ".........16\n",
      ".........17\n",
      ".........18\n",
      ".........19\n",
      ".........2\n",
      ".........20\n",
      ".........21\n",
      ".........22\n",
      ".........23\n",
      ".........24\n",
      ".........25\n",
      ".........26\n",
      ".........27\n",
      ".........28\n",
      ".........3\n",
      ".........4\n",
      ".........5\n",
      ".........6\n",
      ".........7\n",
      ".........8\n",
      ".........9\n",
      "...vars\n",
      "Keras model archive saving:\n",
      "File Name                                             Modified             Size\n",
      "config.json                                    2023-09-18 13:25:35         5332\n",
      "metadata.json                                  2023-09-18 13:25:35           64\n",
      "variables.h5                                   2023-09-18 13:25:35      1493016\n"
     ]
    }
   ],
   "source": [
    "# Export to pickle file\n",
    "import pickle\n",
    "\n",
    "pickle.dump(bestModel, open('digit_recognizer.pkl', 'wb'))"
   ]
  },
  {
   "cell_type": "code",
   "execution_count": 25,
   "metadata": {
    "ExecuteTime": {
     "end_time": "2023-09-18T11:25:38.372993600Z",
     "start_time": "2023-09-18T11:25:38.238149Z"
    },
    "collapsed": false
   },
   "outputs": [
    {
     "name": "stdout",
     "output_type": "stream",
     "text": [
      "Keras model archive loading:\n",
      "File Name                                             Modified             Size\n",
      "config.json                                    2023-09-18 13:25:34         5332\n",
      "metadata.json                                  2023-09-18 13:25:34           64\n",
      "variables.h5                                   2023-09-18 13:25:34      1493016\n",
      "Keras weights file (<HDF5 file \"variables.h5\" (mode r)>) loading:\n",
      "...layers\\batch_normalization\n",
      "......vars\n",
      ".........0\n",
      ".........1\n",
      ".........2\n",
      ".........3\n",
      "...layers\\batch_normalization_1\n",
      "......vars\n",
      ".........0\n",
      ".........1\n",
      ".........2\n",
      ".........3\n",
      "...layers\\conv2d\n",
      "......vars\n",
      ".........0\n",
      ".........1\n",
      "...layers\\conv2d_1\n",
      "......vars\n",
      ".........0\n",
      ".........1\n",
      "...layers\\dense\n",
      "......vars\n",
      ".........0\n",
      ".........1\n",
      "...layers\\dense_1\n",
      "......vars\n",
      ".........0\n",
      ".........1\n",
      "...layers\\dense_2\n",
      "......vars\n",
      ".........0\n",
      ".........1\n",
      "...layers\\dropout\n",
      "......vars\n",
      "...layers\\dropout_1\n",
      "......vars\n",
      "...layers\\flatten\n",
      "......vars\n",
      "...layers\\max_pooling2d\n",
      "......vars\n",
      "...layers\\max_pooling2d_1\n",
      "......vars\n",
      "...metrics\\mean\n",
      "......vars\n",
      ".........0\n",
      ".........1\n",
      "...metrics\\mean_metric_wrapper\n",
      "......vars\n",
      ".........0\n",
      ".........1\n",
      "...optimizer\n",
      "......vars\n",
      ".........0\n",
      ".........1\n",
      ".........10\n",
      ".........11\n",
      ".........12\n",
      ".........13\n",
      ".........14\n",
      ".........15\n",
      ".........16\n",
      ".........17\n",
      ".........18\n",
      ".........19\n",
      ".........2\n",
      ".........20\n",
      ".........21\n",
      ".........22\n",
      ".........23\n",
      ".........24\n",
      ".........25\n",
      ".........26\n",
      ".........27\n",
      ".........28\n",
      ".........3\n",
      ".........4\n",
      ".........5\n",
      ".........6\n",
      ".........7\n",
      ".........8\n",
      ".........9\n",
      "...vars\n"
     ]
    }
   ],
   "source": [
    "# Load model from pickle file\n",
    "model = pickle.load(open('digit_recognizer.pkl', 'rb'))"
   ]
  },
  {
   "cell_type": "code",
   "execution_count": 26,
   "metadata": {
    "ExecuteTime": {
     "end_time": "2023-09-18T11:25:39.488275Z",
     "start_time": "2023-09-18T11:25:39.470112300Z"
    },
    "collapsed": false
   },
   "outputs": [],
   "source": [
    "# Test model with a real drawing\n",
    "from PIL import Image, ImageOps\n",
    "import numpy as np\n",
    "import matplotlib.pyplot as plt"
   ]
  },
  {
   "cell_type": "code",
   "execution_count": 69,
   "metadata": {
    "ExecuteTime": {
     "end_time": "2023-09-18T11:32:12.276865400Z",
     "start_time": "2023-09-18T11:32:12.260055200Z"
    },
    "collapsed": false
   },
   "outputs": [],
   "source": [
    "# Load image\n",
    "img = Image.open('dataset/sample/img_4.png')"
   ]
  },
  {
   "cell_type": "code",
   "execution_count": 70,
   "metadata": {
    "ExecuteTime": {
     "end_time": "2023-09-18T11:32:12.475095700Z",
     "start_time": "2023-09-18T11:32:12.443044300Z"
    },
    "collapsed": false
   },
   "outputs": [],
   "source": [
    "# Convert to grayscale\n",
    "img = ImageOps.grayscale(img)\n",
    "\n",
    "# Resize image\n",
    "img = img.resize((28, 28))\n",
    "\n",
    "# Convert to numpy array\n",
    "img = np.array(img)\n",
    "\n",
    "# Invert image\n",
    "img = 255 - img\n",
    "\n",
    "# Normalize image\n",
    "img = img / 255\n",
    "\n",
    "# Reshape image\n",
    "img = img.reshape(-1, 28, 28, 1)"
   ]
  },
  {
   "cell_type": "code",
   "execution_count": 71,
   "metadata": {
    "ExecuteTime": {
     "end_time": "2023-09-18T11:32:12.648372Z",
     "start_time": "2023-09-18T11:32:12.602134200Z"
    },
    "collapsed": false
   },
   "outputs": [
    {
     "name": "stdout",
     "output_type": "stream",
     "text": [
      "1/1 [==============================] - 0s 16ms/step\n"
     ]
    }
   ],
   "source": [
    "# Predict image\n",
    "pred = model.predict(img)"
   ]
  },
  {
   "cell_type": "code",
   "execution_count": 72,
   "metadata": {
    "ExecuteTime": {
     "end_time": "2023-09-18T11:32:12.797898700Z",
     "start_time": "2023-09-18T11:32:12.750013Z"
    },
    "collapsed": false
   },
   "outputs": [
    {
     "data": {
      "image/png": "[encoded data removed]",
      "text/plain": [
       "<Figure size 640x480 with 1 Axes>"
      ]
     },
     "metadata": {},
     "output_type": "display_data"
    }
   ],
   "source": [
    "# Display image\n",
    "plt.imshow(img.reshape(28, 28), cmap='gray')\n",
    "plt.axis('off')\n",
    "plt.show()"
   ]
  },
  {
   "cell_type": "code",
   "execution_count": 73,
   "metadata": {
    "ExecuteTime": {
     "end_time": "2023-09-18T11:32:13.522788400Z",
     "start_time": "2023-09-18T11:32:13.495230500Z"
    },
    "collapsed": false
   },
   "outputs": [
    {
     "name": "stdout",
     "output_type": "stream",
     "text": [
      "Label predicted : 4\n",
      "Prediction probability : 0.345872\n"
     ]
    }
   ],
   "source": [
    "# Display prediction\n",
    "print('Label predicted :', np.argmax(pred))\n",
    "\n",
    "# Display prediction probability\n",
    "print('Prediction probability :', pred[0][np.argmax(pred)])"
   ]
  },
  {
   "cell_type": "code",
   "execution_count": 74,
   "metadata": {
    "ExecuteTime": {
     "end_time": "2023-09-18T11:32:15.399107100Z",
     "start_time": "2023-09-18T11:32:14.014449700Z"
    },
    "collapsed": false
   },
   "outputs": [
    {
     "name": "stdout",
     "output_type": "stream",
     "text": [
      "263/263 [==============================] - 1s 4ms/step\n"
     ]
    },
    {
     "data": {
      "image/png": "[encoded data removed]",
      "text/plain": [
       "<Figure size 1000x1000 with 2 Axes>"
      ]
     },
     "metadata": {},
     "output_type": "display_data"
    }
   ],
   "source": [
    "# Display confusion matrix\n",
    "from sklearn.metrics import confusion_matrix\n",
    "import seaborn as sns\n",
    "\n",
    "pred = list(map(np.argmax, model.predict(testX)))\n",
    "cm = confusion_matrix(testY, pred)\n",
    "plt.figure(figsize=(10, 10))\n",
    "sns.heatmap(cm, annot=True, fmt='d', cmap='Blues')\n",
    "plt.xlabel('Predicted')\n",
    "plt.ylabel('Actual')\n",
    "plt.show()\n"
   ]
  },
  {
   "cell_type": "code",
   "execution_count": 79,
   "metadata": {
    "ExecuteTime": {
     "end_time": "2023-09-18T11:43:19.839373500Z",
     "start_time": "2023-09-18T11:43:19.785688Z"
    },
    "collapsed": false
   },
   "outputs": [],
   "source": [
    "from keras.layers import Conv2D, MaxPooling2D, Flatten, Dense\n",
    "\n",
    "\n",
    "def create_lenet_model():\n",
    "  model = Sequential([\n",
    "    Conv2D(6, (5, 5), activation='relu', input_shape=(28, 28, 1)),\n",
    "    MaxPooling2D((2, 2)),\n",
    "    Conv2D(16, (5, 5), activation='relu'),\n",
    "    MaxPooling2D((2, 2)),\n",
    "    Flatten(),\n",
    "    Dense(120, activation='relu'),\n",
    "    Dense(84, activation='relu'),\n",
    "    Dense(10, activation='softmax')\n",
    "  ])\n",
    "\n",
    "  model.compile(optimizer='adam', loss='sparse_categorical_crossentropy', metrics=['accuracy'])\n",
    "\n",
    "  return model\n",
    "\n",
    "\n",
    "lenet_model = create_lenet_model()\n"
   ]
  },
  {
   "cell_type": "code",
   "execution_count": 80,
   "metadata": {
    "ExecuteTime": {
     "end_time": "2023-09-18T11:45:08.952755800Z",
     "start_time": "2023-09-18T11:43:20.709811Z"
    },
    "collapsed": false
   },
   "outputs": [
    {
     "name": "stdout",
     "output_type": "stream",
     "text": [
      "Epoch 1/20\n",
      "2100/2100 [==============================] - 7s 3ms/step - loss: 0.2270 - accuracy: 0.9290 - val_loss: 0.0998 - val_accuracy: 0.9717\n",
      "Epoch 2/20\n",
      "2100/2100 [==============================] - 6s 3ms/step - loss: 0.0786 - accuracy: 0.9746 - val_loss: 0.0877 - val_accuracy: 0.9732\n",
      "Epoch 3/20\n",
      "2100/2100 [==============================] - 6s 3ms/step - loss: 0.0574 - accuracy: 0.9822 - val_loss: 0.0631 - val_accuracy: 0.9814\n",
      "Epoch 4/20\n",
      "2100/2100 [==============================] - 6s 3ms/step - loss: 0.0447 - accuracy: 0.9863 - val_loss: 0.0557 - val_accuracy: 0.9825\n",
      "Epoch 5/20\n",
      "2100/2100 [==============================] - 6s 3ms/step - loss: 0.0353 - accuracy: 0.9887 - val_loss: 0.0551 - val_accuracy: 0.9829\n",
      "Epoch 6/20\n",
      "2100/2100 [==============================] - 6s 3ms/step - loss: 0.0305 - accuracy: 0.9902 - val_loss: 0.0578 - val_accuracy: 0.9839\n",
      "Epoch 7/20\n",
      "2100/2100 [==============================] - 6s 3ms/step - loss: 0.0258 - accuracy: 0.9913 - val_loss: 0.0627 - val_accuracy: 0.9813\n",
      "Epoch 8/20\n",
      "2100/2100 [==============================] - 6s 3ms/step - loss: 0.0187 - accuracy: 0.9940 - val_loss: 0.0473 - val_accuracy: 0.9889\n",
      "Epoch 9/20\n",
      "2100/2100 [==============================] - 6s 3ms/step - loss: 0.0205 - accuracy: 0.9935 - val_loss: 0.0485 - val_accuracy: 0.9877\n",
      "Epoch 10/20\n",
      "2100/2100 [==============================] - 6s 3ms/step - loss: 0.0189 - accuracy: 0.9938 - val_loss: 0.0640 - val_accuracy: 0.9839\n",
      "Epoch 11/20\n",
      "2100/2100 [==============================] - 6s 3ms/step - loss: 0.0169 - accuracy: 0.9942 - val_loss: 0.0813 - val_accuracy: 0.9812\n",
      "Epoch 12/20\n",
      "2100/2100 [==============================] - 6s 3ms/step - loss: 0.0133 - accuracy: 0.9956 - val_loss: 0.0739 - val_accuracy: 0.9825\n",
      "Epoch 13/20\n",
      "2100/2100 [==============================] - 6s 3ms/step - loss: 0.0145 - accuracy: 0.9956 - val_loss: 0.0688 - val_accuracy: 0.9870\n",
      "Epoch 14/20\n",
      "2100/2100 [==============================] - 6s 3ms/step - loss: 0.0122 - accuracy: 0.9960 - val_loss: 0.0576 - val_accuracy: 0.9882\n",
      "Epoch 15/20\n",
      "2100/2100 [==============================] - 6s 3ms/step - loss: 0.0115 - accuracy: 0.9958 - val_loss: 0.0594 - val_accuracy: 0.9882\n",
      "Epoch 16/20\n",
      "2100/2100 [==============================] - 6s 3ms/step - loss: 0.0147 - accuracy: 0.9957 - val_loss: 0.0644 - val_accuracy: 0.9844\n",
      "Epoch 17/20\n",
      "2100/2100 [==============================] - 6s 3ms/step - loss: 0.0094 - accuracy: 0.9970 - val_loss: 0.0717 - val_accuracy: 0.9865\n",
      "Epoch 18/20\n",
      "2100/2100 [==============================] - 6s 3ms/step - loss: 0.0126 - accuracy: 0.9965 - val_loss: 0.0648 - val_accuracy: 0.9867\n"
     ]
    }
   ],
   "source": [
    "history = lenet_model.fit(\n",
    "  trainX, trainY,\n",
    "  validation_data=(testX, testY),\n",
    "  batch_size=16,\n",
    "  epochs=20,\n",
    "  callbacks=[earlyStopping]\n",
    ")"
   ]
  },
  {
   "cell_type": "code",
   "execution_count": 81,
   "metadata": {
    "ExecuteTime": {
     "end_time": "2023-09-18T11:45:14.549395200Z",
     "start_time": "2023-09-18T11:45:14.534877700Z"
    },
    "collapsed": false
   },
   "outputs": [],
   "source": [
    "historyDf = pd.DataFrame(history.history)"
   ]
  },
  {
   "cell_type": "code",
   "execution_count": 82,
   "metadata": {
    "ExecuteTime": {
     "end_time": "2023-09-18T11:45:15.380953600Z",
     "start_time": "2023-09-18T11:45:15.219325300Z"
    },
    "collapsed": false
   },
   "outputs": [
    {
     "data": {
      "text/plain": [
       "<Axes: >"
      ]
     },
     "execution_count": 82,
     "metadata": {},
     "output_type": "execute_result"
    },
    {
     "data": {
      "image/png": "[encoded data removed]",
      "text/plain": [
       "<Figure size 640x480 with 1 Axes>"
      ]
     },
     "metadata": {},
     "output_type": "display_data"
    }
   ],
   "source": [
    "# Display loss\n",
    "historyDf.loc[:, ['loss', 'val_loss']].plot()"
   ]
  },
  {
   "cell_type": "code",
   "execution_count": 83,
   "metadata": {
    "ExecuteTime": {
     "end_time": "2023-09-18T11:45:16.625687800Z",
     "start_time": "2023-09-18T11:45:16.492372100Z"
    },
    "collapsed": false
   },
   "outputs": [
    {
     "data": {
      "text/plain": [
       "<Axes: >"
      ]
     },
     "execution_count": 83,
     "metadata": {},
     "output_type": "execute_result"
    },
    {
     "data": {
      "image/png": "[encoded data removed]",
      "text/plain": [
       "<Figure size 640x480 with 1 Axes>"
      ]
     },
     "metadata": {},
     "output_type": "display_data"
    }
   ],
   "source": [
    "# Display accuracy\n",
    "historyDf.loc[:, ['accuracy', 'val_accuracy']].plot()"
   ]
  },
  {
   "cell_type": "code",
   "execution_count": 84,
   "metadata": {
    "ExecuteTime": {
     "end_time": "2023-09-18T11:45:17.529286200Z",
     "start_time": "2023-09-18T11:45:17.432318100Z"
    },
    "collapsed": false
   },
   "outputs": [
    {
     "name": "stdout",
     "output_type": "stream",
     "text": [
      "Keras weights file (<HDF5 file \"variables.h5\" (mode r+)>) saving:\n",
      "...layers\\conv2d\n",
      "......vars\n",
      ".........0\n",
      ".........1\n",
      "...layers\\conv2d_1\n",
      "......vars\n",
      ".........0\n",
      ".........1\n",
      "...layers\\dense\n",
      "......vars\n",
      ".........0\n",
      ".........1\n",
      "...layers\\dense_1\n",
      "......vars\n",
      ".........0\n",
      ".........1\n",
      "...layers\\dense_2\n",
      "......vars\n",
      ".........0\n",
      ".........1\n",
      "...layers\\flatten\n",
      "......vars\n",
      "...layers\\max_pooling2d\n",
      "......vars\n",
      "...layers\\max_pooling2d_1\n",
      "......vars\n",
      "...metrics\\mean\n",
      "......vars\n",
      ".........0\n",
      ".........1\n",
      "...metrics\\mean_metric_wrapper\n",
      "......vars\n",
      ".........0\n",
      ".........1\n",
      "...optimizer\n",
      "......vars\n",
      ".........0\n",
      ".........1\n",
      ".........10\n",
      ".........11\n",
      ".........12\n",
      ".........13\n",
      ".........14\n",
      ".........15\n",
      ".........16\n",
      ".........17\n",
      ".........18\n",
      ".........19\n",
      ".........2\n",
      ".........20\n",
      ".........3\n",
      ".........4\n",
      ".........5\n",
      ".........6\n",
      ".........7\n",
      ".........8\n",
      ".........9\n",
      "...vars\n",
      "Keras model archive saving:\n",
      "File Name                                             Modified             Size\n",
      "config.json                                    2023-09-18 13:45:17         3520\n",
      "metadata.json                                  2023-09-18 13:45:17           64\n",
      "variables.h5                                   2023-09-18 13:45:17       568952\n"
     ]
    }
   ],
   "source": [
    "# Export to pickle file\n",
    "import pickle\n",
    "\n",
    "pickle.dump(lenet_model, open('lenet_model.pkl', 'wb'))"
   ]
  },
  {
   "cell_type": "code",
   "execution_count": 85,
   "metadata": {
    "ExecuteTime": {
     "end_time": "2023-09-18T11:45:18.827622Z",
     "start_time": "2023-09-18T11:45:18.738843700Z"
    },
    "collapsed": false
   },
   "outputs": [
    {
     "name": "stdout",
     "output_type": "stream",
     "text": [
      "Keras model archive loading:\n",
      "File Name                                             Modified             Size\n",
      "config.json                                    2023-09-18 13:45:16         3520\n",
      "metadata.json                                  2023-09-18 13:45:16           64\n",
      "variables.h5                                   2023-09-18 13:45:16       568952\n",
      "Keras weights file (<HDF5 file \"variables.h5\" (mode r)>) loading:\n",
      "...layers\\conv2d\n",
      "......vars\n",
      ".........0\n",
      ".........1\n",
      "...layers\\conv2d_1\n",
      "......vars\n",
      ".........0\n",
      ".........1\n",
      "...layers\\dense\n",
      "......vars\n",
      ".........0\n",
      ".........1\n",
      "...layers\\dense_1\n",
      "......vars\n",
      ".........0\n",
      ".........1\n",
      "...layers\\dense_2\n",
      "......vars\n",
      ".........0\n",
      ".........1\n",
      "...layers\\flatten\n",
      "......vars\n",
      "...layers\\max_pooling2d\n",
      "......vars\n",
      "...layers\\max_pooling2d_1\n",
      "......vars\n",
      "...metrics\\mean\n",
      "......vars\n",
      ".........0\n",
      ".........1\n",
      "...metrics\\mean_metric_wrapper\n",
      "......vars\n",
      ".........0\n",
      ".........1\n",
      "...optimizer\n",
      "......vars\n",
      ".........0\n",
      ".........1\n",
      ".........10\n",
      ".........11\n",
      ".........12\n",
      ".........13\n",
      ".........14\n",
      ".........15\n",
      ".........16\n",
      ".........17\n",
      ".........18\n",
      ".........19\n",
      ".........2\n",
      ".........20\n",
      ".........3\n",
      ".........4\n",
      ".........5\n",
      ".........6\n",
      ".........7\n",
      ".........8\n",
      ".........9\n",
      "...vars\n"
     ]
    }
   ],
   "source": [
    "# Load model from pickle file\n",
    "model = pickle.load(open('lenet_model.pkl', 'rb'))"
   ]
  },
  {
   "cell_type": "code",
   "execution_count": 86,
   "metadata": {
    "ExecuteTime": {
     "end_time": "2023-09-18T11:45:19.615307200Z",
     "start_time": "2023-09-18T11:45:19.608003300Z"
    },
    "collapsed": false
   },
   "outputs": [],
   "source": [
    "# Test model with a real drawing\n",
    "from PIL import Image, ImageOps\n",
    "import numpy as np\n",
    "import matplotlib.pyplot as plt"
   ]
  },
  {
   "cell_type": "code",
   "execution_count": 105,
   "metadata": {
    "ExecuteTime": {
     "end_time": "2023-09-18T11:46:27.311339800Z",
     "start_time": "2023-09-18T11:46:27.295607100Z"
    },
    "collapsed": false
   },
   "outputs": [],
   "source": [
    "# Load image\n",
    "img = Image.open('dataset/sample/img.png')"
   ]
  },
  {
   "cell_type": "code",
   "execution_count": 106,
   "metadata": {
    "ExecuteTime": {
     "end_time": "2023-09-18T11:46:27.532505700Z",
     "start_time": "2023-09-18T11:46:27.519496900Z"
    },
    "collapsed": false
   },
   "outputs": [],
   "source": [
    "# Convert to grayscale\n",
    "img = ImageOps.grayscale(img)\n",
    "\n",
    "# Resize image\n",
    "img = img.resize((28, 28))\n",
    "\n",
    "# Convert to numpy array\n",
    "img = np.array(img)\n",
    "\n",
    "# Invert image\n",
    "img = 255 - img\n",
    "\n",
    "# Normalize image\n",
    "img = img / 255\n",
    "\n",
    "# Reshape image\n",
    "img = img.reshape(-1, 28, 28, 1)"
   ]
  },
  {
   "cell_type": "code",
   "execution_count": 107,
   "metadata": {
    "ExecuteTime": {
     "end_time": "2023-09-18T11:46:27.814590800Z",
     "start_time": "2023-09-18T11:46:27.760446300Z"
    },
    "collapsed": false
   },
   "outputs": [
    {
     "name": "stdout",
     "output_type": "stream",
     "text": [
      "1/1 [==============================] - 0s 17ms/step\n"
     ]
    }
   ],
   "source": [
    "# Predict image\n",
    "pred = model.predict(img)"
   ]
  },
  {
   "cell_type": "code",
   "execution_count": 108,
   "metadata": {
    "ExecuteTime": {
     "end_time": "2023-09-18T11:46:27.970393400Z",
     "start_time": "2023-09-18T11:46:27.918476200Z"
    },
    "collapsed": false
   },
   "outputs": [
    {
     "data": {
      "image/png": "[encoded data removed]",
      "text/plain": [
       "<Figure size 640x480 with 1 Axes>"
      ]
     },
     "metadata": {},
     "output_type": "display_data"
    }
   ],
   "source": [
    "# Display image\n",
    "plt.imshow(img.reshape(28, 28), cmap='gray')\n",
    "plt.axis('off')\n",
    "plt.show()"
   ]
  },
  {
   "cell_type": "code",
   "execution_count": 109,
   "metadata": {
    "ExecuteTime": {
     "end_time": "2023-09-18T11:46:28.088130500Z",
     "start_time": "2023-09-18T11:46:28.070681900Z"
    },
    "collapsed": false
   },
   "outputs": [
    {
     "name": "stdout",
     "output_type": "stream",
     "text": [
      "Label predicted : 3\n",
      "Prediction probability : 0.8528201\n"
     ]
    }
   ],
   "source": [
    "# Display prediction\n",
    "print('Label predicted :', np.argmax(pred))\n",
    "\n",
    "# Display prediction probability\n",
    "print('Prediction probability :', pred[0][np.argmax(pred)])"
   ]
  },
  {
   "cell_type": "code",
   "execution_count": 110,
   "metadata": {
    "ExecuteTime": {
     "end_time": "2023-09-18T11:46:29.124348900Z",
     "start_time": "2023-09-18T11:46:28.209301300Z"
    },
    "collapsed": false
   },
   "outputs": [
    {
     "name": "stdout",
     "output_type": "stream",
     "text": [
      "263/263 [==============================] - 1s 2ms/step\n"
     ]
    },
    {
     "data": {
      "image/png": "[encoded data removed]",
      "text/plain": [
       "<Figure size 1000x1000 with 2 Axes>"
      ]
     },
     "metadata": {},
     "output_type": "display_data"
    }
   ],
   "source": [
    "# Display confusion matrix\n",
    "from sklearn.metrics import confusion_matrix\n",
    "import seaborn as sns\n",
    "\n",
    "pred = list(map(np.argmax, model.predict(testX)))\n",
    "cm = confusion_matrix(testY, pred)\n",
    "plt.figure(figsize=(10, 10))\n",
    "sns.heatmap(cm, annot=True, fmt='d', cmap='Blues')\n",
    "plt.xlabel('Predicted')\n",
    "plt.ylabel('Actual')\n",
    "plt.show()"
   ]
  },
  {
   "cell_type": "code",
   "execution_count": null,
   "metadata": {
    "collapsed": false
   },
   "outputs": [],
   "source": []
  }
 ],
 "metadata": {
  "kernelspec": {
   "display_name": "Python 3",
   "language": "python",
   "name": "python3"
  },
  "language_info": {
   "codemirror_mode": {
    "name": "ipython",
    "version": 3
   },
   "file_extension": ".py",
   "mimetype": "text/x-python",
   "name": "python",
   "nbconvert_exporter": "python",
   "pygments_lexer": "ipython3",
   "version": "3.10.9"
  }
 },
 "nbformat": 4,
 "nbformat_minor": 4
}
